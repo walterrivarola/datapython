{
 "cells": [
  {
   "cell_type": "code",
   "execution_count": 8,
   "metadata": {},
   "outputs": [
    {
     "name": "stdout",
     "output_type": "stream",
     "text": [
      "Hola Mundo! 8\n"
     ]
    }
   ],
   "source": [
    "\n",
    "print(\"Hola Mundo!\")"
   ]
  },
  {
   "cell_type": "markdown",
   "metadata": {},
   "source": [
    "# Identacion"
   ]
  },
  {
   "cell_type": "code",
   "execution_count": null,
   "metadata": {},
   "outputs": [],
   "source": [
    "variable = 5\n",
    "\n",
    "if variable == 5:\n",
    "    print(\"Es verdadero\")\n",
    "else:\n",
    "    print(\"Es falso\")"
   ]
  },
  {
   "cell_type": "markdown",
   "metadata": {},
   "source": [
    "# Comentario"
   ]
  },
  {
   "cell_type": "code",
   "execution_count": 10,
   "metadata": {},
   "outputs": [
    {
     "name": "stdout",
     "output_type": "stream",
     "text": [
      "5\n"
     ]
    }
   ],
   "source": [
    "# Este es un comentario de una linea\n",
    "\n",
    "\"\"\"\n",
    "Este es un comentario\n",
    "de múltiples\n",
    "lineas\n",
    "\"\"\"\n",
    "\n",
    "print(2+3)"
   ]
  },
  {
   "cell_type": "markdown",
   "metadata": {},
   "source": [
    "# Variables y tipos de datos"
   ]
  },
  {
   "cell_type": "code",
   "execution_count": 11,
   "metadata": {},
   "outputs": [
    {
     "name": "stdout",
     "output_type": "stream",
     "text": [
      "Su nombre es Juan tiene 30 años, una altura de 1.7 y es un estudiante True\n"
     ]
    }
   ],
   "source": [
    "nombre = 'Juan' # variable de tipo string\n",
    "edad = 30 # variable de tipo int\n",
    "altura = 1.70 # variable de tipo float\n",
    "es_estudiante = True # variable de tipo booleano\n",
    "\n",
    "print(f\"Su nombre es {nombre} tiene {edad} años, una altura de {altura} y es un estudiante {es_estudiante}\")"
   ]
  },
  {
   "cell_type": "code",
   "execution_count": 12,
   "metadata": {},
   "outputs": [
    {
     "name": "stdout",
     "output_type": "stream",
     "text": [
      "<class 'str'>\n",
      "<class 'int'>\n",
      "<class 'float'>\n",
      "<class 'bool'>\n"
     ]
    }
   ],
   "source": [
    "nombre = 'Juan' # variable de tipo string\n",
    "edad = 30 # variable de tipo int\n",
    "altura = 1.70 # variable de tipo float\n",
    "es_estudiante = True # variable de tipo booleano\n",
    "\n",
    "print(type(nombre))\n",
    "print(type(edad))\n",
    "print(type(altura))\n",
    "print(type(es_estudiante))"
   ]
  },
  {
   "cell_type": "markdown",
   "metadata": {},
   "source": [
    "# Tipos de datos - Listas"
   ]
  },
  {
   "cell_type": "code",
   "execution_count": 13,
   "metadata": {},
   "outputs": [
    {
     "name": "stdout",
     "output_type": "stream",
     "text": [
      "['apple', 'hello', 'cualquier otra cosa']\n"
     ]
    }
   ],
   "source": [
    "# lista vacia\n",
    "lista_1 = []\n",
    "\n",
    "# lista enteros\n",
    "lista_2 = [1,2,3,4,5,6,7]\n",
    "\n",
    "# lista cadena\n",
    "lista_3 = ['apple', 'hello', 'cualquier otra cosa']\n",
    "\n",
    "# lista mixta\n",
    "lista_4 = [2,3,'hello', 1.65]\n",
    "\n",
    "# lista anidada\n",
    "lista_5 = [1,2, ['hello', 44.4], ['k']]\n",
    "\n",
    "print(lista_3)"
   ]
  },
  {
   "cell_type": "code",
   "execution_count": 15,
   "metadata": {},
   "outputs": [
    {
     "name": "stdout",
     "output_type": "stream",
     "text": [
      "a\n"
     ]
    }
   ],
   "source": [
    "# Accediendo a elementos de una lista\n",
    "lista_6 = ['a', 'b', 'c', 'd', 'e', 'f']\n",
    "\n",
    "\"\"\"\n",
    "Referencia de posiciones\n",
    "a -> 0\n",
    "b -> 1\n",
    "c -> 2\n",
    "d -> 3\n",
    "e -> 4\n",
    "f -> 5\n",
    "\"\"\"\n",
    "\n",
    "\n",
    "print(lista_6[0])"
   ]
  },
  {
   "cell_type": "code",
   "execution_count": 17,
   "metadata": {},
   "outputs": [
    {
     "data": {
      "text/plain": [
       "['c', 'd']"
      ]
     },
     "execution_count": 17,
     "metadata": {},
     "output_type": "execute_result"
    }
   ],
   "source": [
    "# Imprimir rango de elementos en lista\n",
    "lista_6[2:4]"
   ]
  },
  {
   "cell_type": "markdown",
   "metadata": {},
   "source": [
    "# Tipos de datos - Tupla\n",
    "### No se puede eliminar los elementos una vez definido"
   ]
  },
  {
   "cell_type": "code",
   "execution_count": 18,
   "metadata": {},
   "outputs": [],
   "source": [
    "# Tupla vacia\n",
    "tupla_1 = ()\n",
    "\n",
    "# Tupla enteros\n",
    "tupla_2 = (1,2,3)\n",
    "\n",
    "# Tupla mixta\n",
    "tupla_3 = (1,'Hola',3.2)\n",
    "\n",
    "# Tupla anidada\n",
    "tupla_3 = (1,['Hola'],3.2)"
   ]
  },
  {
   "cell_type": "code",
   "execution_count": null,
   "metadata": {},
   "outputs": [],
   "source": [
    "# Formas de hacer tuplas\n",
    "tupla_4 = \"Hola\",\n",
    "tupla_5 = (\"Adios\",)"
   ]
  },
  {
   "cell_type": "markdown",
   "metadata": {},
   "source": [
    "# Tipos de datos - Diccionario"
   ]
  },
  {
   "cell_type": "code",
   "execution_count": 19,
   "metadata": {},
   "outputs": [
    {
     "name": "stdout",
     "output_type": "stream",
     "text": [
      "{'nombre': 'walter', 'apellido': 'rivarola', 'edad': 29}\n"
     ]
    }
   ],
   "source": [
    "# diccionario vacio\n",
    "dict_1 = {}\n",
    "\n",
    "# diccionario con claves enteras\n",
    "dict_2 = {1:\"walter\", 2:\"rivarola\"}\n",
    "\n",
    "# diccionario con claves mixtas\n",
    "dict_3 = {\"nombre\":\"walter\", \"apellido\":\"rivarola\", \"edad\":[29,30]}\n",
    "\n",
    "print(dict_3)"
   ]
  },
  {
   "cell_type": "code",
   "execution_count": 22,
   "metadata": {},
   "outputs": [
    {
     "name": "stdout",
     "output_type": "stream",
     "text": [
      "walter\n",
      "walter\n"
     ]
    }
   ],
   "source": [
    "# Accediendo a los valores del diccionario\n",
    "print(dict_3['nombre'])\n",
    "\n",
    "print(dict_3.get('nombre'))"
   ]
  },
  {
   "cell_type": "code",
   "execution_count": 23,
   "metadata": {},
   "outputs": [
    {
     "name": "stdout",
     "output_type": "stream",
     "text": [
      "km 4\n"
     ]
    }
   ],
   "source": [
    "# Crear clave y valor en diccionario\n",
    "dict_3['direccion'] = 'km 4'\n",
    "\n",
    "print(dict_3.get('direccion'))"
   ]
  },
  {
   "cell_type": "markdown",
   "metadata": {},
   "source": [
    "# Recorrer una lista"
   ]
  },
  {
   "cell_type": "code",
   "execution_count": 26,
   "metadata": {},
   "outputs": [
    {
     "name": "stdout",
     "output_type": "stream",
     "text": [
      "1\n",
      "2\n",
      "3\n",
      "4\n",
      "5\n",
      "6\n",
      "7\n"
     ]
    }
   ],
   "source": [
    "for item in lista_2:\n",
    "    print(item)"
   ]
  },
  {
   "cell_type": "markdown",
   "metadata": {},
   "source": [
    "# Recorrer una tupla"
   ]
  },
  {
   "cell_type": "code",
   "execution_count": 27,
   "metadata": {},
   "outputs": [
    {
     "name": "stdout",
     "output_type": "stream",
     "text": [
      "1\n",
      "2\n",
      "3\n"
     ]
    }
   ],
   "source": [
    "for item in tupla_2:\n",
    "    print(item)"
   ]
  },
  {
   "cell_type": "markdown",
   "metadata": {},
   "source": [
    "# Recorrer un diccionario"
   ]
  },
  {
   "cell_type": "code",
   "execution_count": 46,
   "metadata": {},
   "outputs": [
    {
     "ename": "KeyError",
     "evalue": "(1, 'walter')",
     "output_type": "error",
     "traceback": [
      "\u001b[0;31m---------------------------------------------------------------------------\u001b[0m",
      "\u001b[0;31mKeyError\u001b[0m                                  Traceback (most recent call last)",
      "Cell \u001b[0;32mIn[46], line 2\u001b[0m\n\u001b[1;32m      1\u001b[0m \u001b[38;5;28;01mfor\u001b[39;00m clave,valor \u001b[38;5;129;01min\u001b[39;00m dict_2\u001b[38;5;241m.\u001b[39mitems():\n\u001b[0;32m----> 2\u001b[0m     \u001b[38;5;28mprint\u001b[39m(\u001b[43mdict_2\u001b[49m\u001b[43m[\u001b[49m\u001b[43mclave\u001b[49m\u001b[43m,\u001b[49m\u001b[43mvalor\u001b[49m\u001b[43m]\u001b[49m)\n",
      "\u001b[0;31mKeyError\u001b[0m: (1, 'walter')"
     ]
    }
   ],
   "source": [
    "for clave,valor in dict_2.items():\n",
    "    print(dict_2[clave,valor])"
   ]
  },
  {
   "cell_type": "code",
   "execution_count": 43,
   "metadata": {},
   "outputs": [
    {
     "name": "stdout",
     "output_type": "stream",
     "text": [
      "walter\n",
      "rivarola\n"
     ]
    }
   ],
   "source": [
    "for clave in dict_2.keys():\n",
    "    print(dict_2[clave])"
   ]
  }
 ],
 "metadata": {
  "kernelspec": {
   "display_name": "Python 3 (ipykernel)",
   "language": "python",
   "name": "python3"
  },
  "language_info": {
   "codemirror_mode": {
    "name": "ipython",
    "version": 3
   },
   "file_extension": ".py",
   "mimetype": "text/x-python",
   "name": "python",
   "nbconvert_exporter": "python",
   "pygments_lexer": "ipython3",
   "version": "3.10.13"
  }
 },
 "nbformat": 4,
 "nbformat_minor": 2
}
